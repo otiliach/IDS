{
 "cells": [
  {
   "cell_type": "markdown",
   "id": "e0be6dae",
   "metadata": {},
   "source": [
    "#  Tema 2 \n",
    "\n",
    "Termen de predare: 19 octombrie 2023, ora 21:00. Numele fisierului va avea structura: laborator2_tema2_nume_prenume.ipynb."
   ]
  },
  {
   "cell_type": "markdown",
   "id": "003a41ae",
   "metadata": {},
   "source": [
    "## Precizări\n",
    "\n",
    "1. Se vor folosi **type annotations** pentru variabile, parametri tuturor funcțiilor, tipuri de retur. Se vor folosi **docstrings** pentru toate funcțiile. Neîndeplinirea acestei cerințe duce la înjumătățirea punctajului pentru exercițiul în cauză. \n",
    "1. Înainte de a trimite tema, verificați acoperirea cerințelor. Notarea notebookului se va face prin rularea succesiva a celulelor, pana la prima blocare.\n",
    "1. Se acorda doua puncte din oficiu."
   ]
  },
  {
   "cell_type": "markdown",
   "id": "ec9f8041",
   "metadata": {},
   "source": [
    "## Conținut\n",
    "\n",
    "1. Exercitii cu functii\n",
    "1. Exercitii cu NumPy"
   ]
  },
  {
   "cell_type": "markdown",
   "id": "795997bf",
   "metadata": {},
   "source": [
    "## Execiții cu funcții:\n"
   ]
  },
  {
   "cell_type": "markdown",
   "id": "35e71d74",
   "metadata": {},
   "source": [
    " (1p) 1. Să se scrie o funcție care primește ca parametru un număr. Să se returneze lista cu toate prefixele numarului care sunt numere prime. \n",
    " Exemplu: n=23510 -> [2, 23, 2351] \n",
    " \n",
    " Puteti folosi functii auxuliare scrise de voi. "
   ]
  },
  {
   "cell_type": "code",
   "execution_count": 1,
   "id": "2c192e03",
   "metadata": {
    "ExecuteTime": {
     "end_time": "2023-10-12T04:19:58.961499Z",
     "start_time": "2023-10-12T04:19:58.958663Z"
    }
   },
   "outputs": [
    {
     "data": {
      "text/plain": [
       "[2, 23, 2351]"
      ]
     },
     "execution_count": 1,
     "metadata": {},
     "output_type": "execute_result"
    }
   ],
   "source": [
    "def numar_prim(numar:int)->bool:\n",
    "    '''\n",
    "    Verifica daca un numar este prim\n",
    "    :param numar(int): un numar intreg\n",
    "    Returneaza un boolean \n",
    "    '''\n",
    "    for i in range(2,numar):\n",
    "        if (numar%i) == 0:\n",
    "            return False\n",
    "    return True \n",
    "\n",
    "def prefixele_prime(numar:str)->list[int]:\n",
    "    '''\n",
    "    Formeaza toate prefixele unui numar si le verifica daca sunt numere prime si le adauga intr-o lista.\n",
    "    :param numar(string): sirul dat ca parametru\n",
    "    Returneaza o lista de numnere intregi ce reprezinta prefixe care sunt numere prime\n",
    "    '''\n",
    "    lista_prefixe_prime:list=[]\n",
    "    prefix:str=''\n",
    "    for p in range(0,len(numar)):\n",
    "        prefix += numar[p];\n",
    "        if numar_prim(int(prefix)):\n",
    "            lista_prefixe_prime.append(int(prefix))\n",
    "    return lista_prefixe_prime\n",
    "\n",
    "prefixele_prime('23510')"
   ]
  },
  {
   "cell_type": "markdown",
   "id": "7e42091c",
   "metadata": {},
   "source": [
    "(1p) 2. Scrieți o funcție care primește ca parametru o frază și care returnează un tuplu ce conține doar cuvintele palindroame. Un palindrom este un șir de caractere care citit de la dreapta la stânga are același continut ca si citirea de la stanga la dreapta. Separatorii de cuvinte sunt: ' ', ',', ':', ';'. E posibil sa fie mai multi separatori succesivi, de exemplu virgula urmata de spatiu.  "
   ]
  },
  {
   "cell_type": "code",
   "execution_count": 2,
   "id": "e6336b54",
   "metadata": {
    "ExecuteTime": {
     "end_time": "2023-10-12T04:19:58.966095Z",
     "start_time": "2023-10-12T04:19:58.963539Z"
    }
   },
   "outputs": [
    {
     "data": {
      "text/plain": [
       "('ana', 'ene')"
      ]
     },
     "execution_count": 2,
     "metadata": {},
     "output_type": "execute_result"
    }
   ],
   "source": [
    "import re\n",
    "\n",
    "def palindroame(fraza:str)->tuple[str]:\n",
    "    '''\n",
    "    Functia separa o fraza in cuvinte si verifica daca sunt palindroame, atunci cuvintele se adauga intr-o lista de palindroame\n",
    "    :param fraza(string): o fraza data ca parametru, cu separatori de cuvinte ' ', ',', ':', ';'\n",
    "    Returneaza un tuplu de stringuri ce sunt palindroame\n",
    "    '''\n",
    "    lista_cuvinte:list = re.split(r'[ ,:;]+',fraza)\n",
    "    lista_palindroame:list=[]\n",
    "    for cuvant in lista_cuvinte:\n",
    "        if cuvant==''.join(reversed(cuvant)):\n",
    "            lista_palindroame.append(cuvant)\n",
    "    return tuple(lista_palindroame)\n",
    "\n",
    "palindroame('ana, are: mere, ene')"
   ]
  },
  {
   "cell_type": "markdown",
   "id": "6a868f43",
   "metadata": {},
   "source": [
    "(0.5p) 3. Definiți o funcție care primește ca parametru o propoziție (string sau listă). Să se returneze un tuplu ce indică numărul de consoane, numărul de vocale și numărul de cifre din parametrul primit. Includeti in tuplu o valoare booleana cara arata daca suma celor 3 valori formează un pătrat perfect."
   ]
  },
  {
   "cell_type": "code",
   "execution_count": 3,
   "id": "a8483fb7",
   "metadata": {
    "ExecuteTime": {
     "end_time": "2023-10-12T04:19:58.970620Z",
     "start_time": "2023-10-12T04:19:58.968103Z"
    }
   },
   "outputs": [
    {
     "data": {
      "text/plain": [
       "(5, 7, 4, True)"
      ]
     },
     "execution_count": 3,
     "metadata": {},
     "output_type": "execute_result"
    }
   ],
   "source": [
    "import math\n",
    "\n",
    "def functie3(propozitie:str)->tuple[int,int,int,bool]: \n",
    "    '''\n",
    "    Functia calculeaza numarul de consoane, numarul de vocale și numarul de cifre;\n",
    "    se verifica daca radical din suma numerelor de litere si numerelor de cifre este un numar intreg pentru verifica daca reprezinta un patrat perfect\n",
    "    :param propozitie(string): o propozitie data\n",
    "    Returneaza un tuplu cu numarul de consoane, numarul de vocale, numarul de cifre și dacă suma lor formează un pătrat perfect\n",
    "    \n",
    "    '''\n",
    "    consoane:str='bcdfghjklmnpqrstvwxyzBCDFGHJKLMNPQRSTVWXYZ'\n",
    "    vocale:str='aeiouAEIOU'\n",
    "    cifre:str='1234567890'\n",
    "    nr_consoane:int=0\n",
    "    nr_vocale:int=0\n",
    "    nr_cifre:int=0\n",
    "    patrat_perfect:bool=False\n",
    "    for caracter in propozitie:\n",
    "        if caracter in consoane:\n",
    "            nr_consoane+=1\n",
    "        elif caracter in vocale:\n",
    "            nr_vocale+=1\n",
    "        elif caracter in cifre:\n",
    "            nr_cifre+=1\n",
    "    patrat_perfect= math.sqrt(nr_consoane+nr_vocale+nr_cifre).is_integer()        \n",
    "    return (nr_consoane,nr_vocale,nr_cifre,patrat_perfect)\n",
    "\n",
    "functie3('Ana are 7435 de mere.')"
   ]
  },
  {
   "cell_type": "markdown",
   "id": "7e116648",
   "metadata": {},
   "source": [
    "(1p) 4. Se da un vector cu numere intregi nenule. Sa se determine toti indicii `i` unde urmeaza o schimbare de semn. Codul se va scrie intr-o functie adnotata.\n",
    "\n",
    "Exemplu: \n",
    "```python\n",
    "v = [1, 2, -1, 2, 3, -1, 3, -10, -10, -10]\n",
    "```\n",
    "Trebuie sa rezulte vectorul de indici: `[1, 2, 4, 5, 6]`.\n",
    "\n",
    "De luat in considerare ca:\n",
    "1. Magnitudinea valorilor nu conteaza, doar semnele lor\n",
    "1. Functia `where` gaseste indicii unde anumite proprietati sunt indeplinite\n",
    "\n",
    "Implementarea furnizata trebuie sa fie diferita fata de cea naiva de mai jos."
   ]
  },
  {
   "cell_type": "code",
   "execution_count": 4,
   "id": "64e37e3a",
   "metadata": {
    "ExecuteTime": {
     "end_time": "2023-10-12T04:19:59.520456Z",
     "start_time": "2023-10-12T04:19:58.971678Z"
    }
   },
   "outputs": [
    {
     "name": "stdout",
     "output_type": "stream",
     "text": [
      "[1 2 4 5 6]\n"
     ]
    }
   ],
   "source": [
    "import numpy as np\n",
    "\n",
    "def jumping(v:list[int])->list[int]: \n",
    "    '''\n",
    "    Se determină toti indicii elementelor din vectorul dat unde urmeaza o schimbare de semn,\n",
    "    :param v(list[int]): vector de numere intregi\n",
    "    Returneaza list[int], indicii elementelor unde urmeaza o schimbare de semn in vector\n",
    "    ''' \n",
    "    assert np.all( v != 0), 'All values should be non-zero'\n",
    "    return np.where(np.diff(np.sign(v)) != 0)[0]\n",
    "\n",
    "# test 1\n",
    "v = np.array([1, 2, -1, 2, 3, -1, 3, -10, -10, -10])\n",
    "print(jumping(v))\n",
    "assert np.all(jumping(v) == [1, 2, 4, 5, 6])\n",
    "\n",
    "# test 2: random vector, naive counting\n",
    "v = np.random.randint(-100, 100, 1000)\n",
    "# patching 0 values\n",
    "v[v==0] = -1\n",
    "# naive way of counting jumps:\n",
    "positions = []\n",
    "for i in range(len(v)-1):\n",
    "    if v[i] * v[i+1] < 0:\n",
    "        positions.append(i)\n",
    "    \n",
    "assert np.all(positions == jumping(v))"
   ]
  },
  {
   "cell_type": "markdown",
   "id": "52b5d98e",
   "metadata": {},
   "source": [
    "## Probleme NumPy"
   ]
  },
  {
   "cell_type": "markdown",
   "id": "0ae82add",
   "metadata": {},
   "source": [
    "(0.5 p) 5. Se dă un vector NumPy de valori numerice. Să se determine lista elementelor care au mai mult de o aparitie.  "
   ]
  },
  {
   "cell_type": "code",
   "execution_count": 5,
   "id": "784b0a1a",
   "metadata": {
    "ExecuteTime": {
     "end_time": "2023-10-12T04:19:59.524486Z",
     "start_time": "2023-10-12T04:19:59.524486Z"
    }
   },
   "outputs": [
    {
     "name": "stdout",
     "output_type": "stream",
     "text": [
      "[2 3 4]\n"
     ]
    }
   ],
   "source": [
    "'''\n",
    "Se da vectorul a de valori numerice\n",
    "Se determina lista elementelor care au mai mult de o aparitie\n",
    "'''\n",
    "a = np.array([1, 4, 2, 5, 2, 3, 3, 4])\n",
    "numbers, counts=np.unique(a,return_counts=True)\n",
    "print(numbers[counts>1])"
   ]
  },
  {
   "cell_type": "markdown",
   "id": "12d26223",
   "metadata": {},
   "source": [
    "(0.5p) 6. Pentru o matrice de numere să se determine suma dintre minimul si maximul elementelor de pe linii sau de pe coloane, în funcție de valoarea unui parametru de tip boolean `compute_on_columns`."
   ]
  },
  {
   "cell_type": "code",
   "execution_count": 6,
   "id": "0f0e3780",
   "metadata": {
    "ExecuteTime": {
     "end_time": "2023-10-12T04:19:59.525486Z",
     "start_time": "2023-10-12T04:19:59.525486Z"
    }
   },
   "outputs": [
    {
     "name": "stdout",
     "output_type": "stream",
     "text": [
      "[10 10 10]\n",
      "[ 4 16 10]\n"
     ]
    }
   ],
   "source": [
    "def sume(mat:np.ndarray, compute_on_columns:bool)->list[int]:\n",
    "    '''\n",
    "    Functia determina suma dintre minimul si maximul elementelor de pe linii sau de pe coloan,\n",
    "    in functie de valaoarea parametrului boolean\n",
    "    :param mat(np.ndarray): matrice de numere\n",
    "    :param compute_on_columns(bool): variabila care indica daca cautarea maximului si a minimului sa se faca pe coloane sau linii\n",
    "    Returneaza o lista de int-uri.\n",
    "    '''\n",
    "    if(compute_on_columns):\n",
    "        lista_min:list=np.min(mat,axis=0)\n",
    "        lista_max:list=np.max(mat,axis=0)\n",
    "        return lista_min+lista_max\n",
    "    else:\n",
    "        lista_min:list=np.min(mat,axis=1)\n",
    "        lista_max:list=np.max(mat,axis=1)\n",
    "        return lista_min+lista_max\n",
    "    \n",
    "mat=np.array([[1, 2, 3], \n",
    "              [9, 8, 7], \n",
    "              [6, 5, 4]])\n",
    "print(sume(mat, True))\n",
    "print(sume(mat, False))"
   ]
  },
  {
   "cell_type": "markdown",
   "id": "836e41e9",
   "metadata": {},
   "source": [
    "(0.5p) 7. Pentru un număr `n` introdus de la tastaură, generați o matrice pătratică de `n*n` cu elemente aleatorii din intervalul `[0,2n]`. Calculați minimul elementelor de pe \n",
    "diagonala principală a matricei și maximul elementelor de pe diagonala secundară a matricei, folosind functii NumPy si cod vectorizat. Returnați rezultatele sub forma de tuplu."
   ]
  },
  {
   "cell_type": "code",
   "execution_count": 7,
   "id": "23108306",
   "metadata": {
    "ExecuteTime": {
     "end_time": "2023-10-12T04:19:59.526455Z",
     "start_time": "2023-10-12T04:19:59.526455Z"
    }
   },
   "outputs": [
    {
     "name": "stdout",
     "output_type": "stream",
     "text": [
      "Enter a number: 5\n",
      "[[8.58955878 2.280647   8.87172231 2.56931199 1.24047478]\n",
      " [1.20202656 0.89989863 8.15573133 1.56481248 6.95063149]\n",
      " [4.62695422 8.77407795 9.72818556 3.12002727 9.80444518]\n",
      " [9.71238668 4.53639165 2.44109925 6.14495748 8.07451898]\n",
      " [5.08414677 9.23099885 8.72773216 1.97573213 3.29421435]]\n"
     ]
    },
    {
     "data": {
      "text/plain": [
       "(0.8998986251223862, 9.728185555690281)"
      ]
     },
     "execution_count": 7,
     "metadata": {},
     "output_type": "execute_result"
    }
   ],
   "source": [
    "def min_max_diagonale()->tuple[float,float]:\n",
    "    '''\n",
    "    Numărul n este introdus de la tastaură, \n",
    "    se genereaza o matrice pătratică de n*n cu elemente aleatorii din intervalul [0,2n]. \n",
    "    Se calculeaza minimul elementelor de pe diagonala principală a matricei și maximul elementelor de pe diagonala secundară a matricei.\n",
    "    Returneaza un tuplu de minimul elementelor de pe diagonala principală si maximul elementelor de pe diagonala secundară\n",
    "    '''\n",
    "    n:int = int(input(\"Enter a number: \"))\n",
    "    mat = (np.random.rand(n*n)*2*n).reshape(n, n)\n",
    "    minim=np.min(mat.diagonal())\n",
    "    maxim=np.max(np.rot90(mat).diagonal())\n",
    "    print(mat)\n",
    "    return tuple([minim, maxim])\n",
    "\n",
    "min_max_diagonale()"
   ]
  },
  {
   "cell_type": "markdown",
   "id": "28d41c8f",
   "metadata": {},
   "source": [
    "(1p) 8. Descarcați setul de date Wine descris la 'http://archive.ics.uci.edu/ml/datasets/Wine', fișierul `wine.data`, și încărcați-l într-o matrice NumPy, \n",
    "folosind `np.genfromtxt`. Alegeți aleator `n` poziții din cadrul matricei de valori, setați pe aceste pozitii `NaN`.  Construiți o funcție care, \n",
    "primind la intrare o matrice, returnează o colecție cu indicii de linii respectiv de coloane în care se găsesc valori `NaN`, precum si matricea 'corectată':  valorile `NaN` se umplu cu o valoare ca parametru al funcției. "
   ]
  },
  {
   "cell_type": "code",
   "execution_count": 8,
   "id": "f98b75e2",
   "metadata": {
    "ExecuteTime": {
     "end_time": "2023-10-12T04:19:59.528455Z",
     "start_time": "2023-10-12T04:19:59.528455Z"
    }
   },
   "outputs": [
    {
     "name": "stdout",
     "output_type": "stream",
     "text": [
      "Matricea initiala:\n",
      " [[1.000e+00 1.423e+01 1.710e+00 ... 1.040e+00 3.920e+00 1.065e+03]\n",
      " [1.000e+00 1.320e+01 1.780e+00 ... 1.050e+00 3.400e+00 1.050e+03]\n",
      " [1.000e+00 1.316e+01 2.360e+00 ... 1.030e+00 3.170e+00 1.185e+03]\n",
      " ...\n",
      " [3.000e+00 1.327e+01 4.280e+00 ... 5.900e-01 1.560e+00 8.350e+02]\n",
      " [3.000e+00 1.317e+01 2.590e+00 ... 6.000e-01 1.620e+00 8.400e+02]\n",
      " [3.000e+00 1.413e+01 4.100e+00 ... 6.100e-01 1.600e+00 5.600e+02]]\n",
      "\n",
      "Enter a number: 2100\n",
      "\n",
      "Matricea dupa inlocuirile cu NaN:\n",
      " [[ nan  nan  nan ...  nan  nan  nan]\n",
      " [ nan  nan  nan ... 1.05  nan  nan]\n",
      " [1.    nan  nan ...  nan 3.17  nan]\n",
      " ...\n",
      " [ nan  nan  nan ...  nan 1.56  nan]\n",
      " [ nan  nan 2.59 ...  nan  nan  nan]\n",
      " [ nan  nan  nan ...  nan  nan  nan]]\n",
      "\n",
      "Indicii:\n",
      " [[  0   0]\n",
      " [  0   1]\n",
      " [  0   2]\n",
      " ...\n",
      " [177  11]\n",
      " [177  12]\n",
      " [177  13]]\n",
      "\n",
      "Matricea noua:\n",
      " [[42.   42.   42.   ... 42.   42.   42.  ]\n",
      " [42.   42.   42.   ...  1.05 42.   42.  ]\n",
      " [ 1.   42.   42.   ... 42.    3.17 42.  ]\n",
      " ...\n",
      " [42.   42.   42.   ... 42.    1.56 42.  ]\n",
      " [42.   42.    2.59 ... 42.   42.   42.  ]\n",
      " [42.   42.   42.   ... 42.   42.   42.  ]]\n",
      "\n",
      "Indici:\n",
      " [[  0   0]\n",
      " [  0   1]\n",
      " [  0   2]\n",
      " ...\n",
      " [177  11]\n",
      " [177  12]\n",
      " [177  13]] \n",
      "Matricea noua:\n",
      " [[42.   42.   42.   ... 42.   42.   42.  ]\n",
      " [42.   42.   42.   ...  1.05 42.   42.  ]\n",
      " [ 1.   42.   42.   ... 42.    3.17 42.  ]\n",
      " ...\n",
      " [42.   42.   42.   ... 42.    1.56 42.  ]\n",
      " [42.   42.    2.59 ... 42.   42.   42.  ]\n",
      " [42.   42.   42.   ... 42.   42.   42.  ]]\n"
     ]
    }
   ],
   "source": [
    "fname='wine.data'\n",
    "mat=np.genfromtxt(fname,delimiter=',',dtype=float)\n",
    "print('Matricea initiala:\\n',mat)\n",
    "n:int = int(input(\"\\nEnter a number: \"))\n",
    "mat.ravel()[np.random.choice(mat.size, n, replace=False)] = np.nan\n",
    "print('\\nMatricea dupa inlocuirile cu NaN:\\n',mat)\n",
    "\n",
    "def inlocuire_nan(mat:np.ndarray,x:float)->tuple[np.ndarray,np.ndarray]:\n",
    "    '''\n",
    "    Functia gaseste indicii(coordonatele) elementelor NaN si le inlocuiesc cu valoarea parametrului x\n",
    "    :param mat(np.ndarray): matrice de numere float\n",
    "    :param x(float): o valoare float\n",
    "    Returnează o colecție cu indicii de linii respectiv de coloane în care se găsesc valori NaN, \n",
    "    precum si matricea 'corectată': valorile NaN se umplu cu valoarea data ca parametru al funcției.\n",
    "    '''\n",
    "    indici = np.argwhere(np.isnan(mat))\n",
    "    print('\\nIndicii:\\n',indici)\n",
    "    mat2=np.nan_to_num(mat,nan=x)\n",
    "    print('\\nMatricea noua:\\n',mat2)\n",
    "    return tuple([indici,mat2])\n",
    "\n",
    "rezultat = inlocuire_nan(mat,42)\n",
    "print('\\nIndici:\\n',rezultat[0],'\\nMatricea noua:\\n',rezultat[1])"
   ]
  },
  {
   "cell_type": "markdown",
   "id": "b35950a6",
   "metadata": {
    "ExecuteTime": {
     "end_time": "2023-10-12T04:14:17.117916Z",
     "start_time": "2023-10-12T04:14:17.111994Z"
    }
   },
   "source": [
    "(1p) 9. Folosind functia `np.convolve`, sa se determine media alunecatoare (moving average) pentru un vector de 10000 de numere aleatoare; lungimea ferestrei alunecatore se da ca parametru al functiei construite de voi. Comparati rezultatele si viteza de executie cu a functiaie `naive_moving_average`.\n",
    "\n",
    "Referinte:\n",
    "1. [Moving average](https://en.wikipedia.org/wiki/Moving_average)\n",
    "1. [np.convolve: How to Use Numpy convolve() Method](https://appdividend.com/2022/10/14/np-convolve/)"
   ]
  },
  {
   "cell_type": "code",
   "execution_count": 9,
   "id": "78e83fab",
   "metadata": {},
   "outputs": [
    {
     "name": "stdout",
     "output_type": "stream",
     "text": [
      "42.8 µs ± 2.49 µs per loop (mean ± std. dev. of 7 runs, 10,000 loops each)\n",
      "62.5 ms ± 4.07 ms per loop (mean ± std. dev. of 7 runs, 10 loops each)\n"
     ]
    }
   ],
   "source": [
    "def moving_average_fast(x:np.ndarray, w:int)->np.ndarray:\n",
    "    '''\n",
    "    Calculează media alunecatoare folosind np.convolve cu mod 'valid'\n",
    "    :param x(np.ndarray): array de numere\n",
    "    :param w(int): lungimea ferestrei alunecatore\n",
    "    Returneaza un array care reprezinta media alunecatoare\n",
    "    '''\n",
    "    assert x.ndim == 1, 'One dimension numpy array'\n",
    "    assert w > 1, 'Average of at least two values'\n",
    "    window = np.ones(w) / w    \n",
    "    media = np.convolve(x, window, mode='valid')\n",
    "    return media\n",
    "\n",
    "def naive_moving_average(x, w): # de adnotat, docstring\n",
    "    assert x.ndim == 1, 'One dimension numpy array'\n",
    "    assert w > 1, 'Average of at least two values'\n",
    "    result = np.zeros(x.shape[0]-w+1)\n",
    "    for i in range(x.shape[0]-w+1):\n",
    "        result[i] = np.mean(x[i:i+w])\n",
    "    return result\n",
    "\n",
    "len_vec, w = 10000, 10\n",
    "x = np.random.rand(len_vec)\n",
    "\n",
    "a = moving_average_fast(x, w)\n",
    "b = naive_moving_average(x, w)\n",
    "\n",
    "assert len(a) == len(b), 'The two methods should return vectors of the same lengths'\n",
    "assert np.allclose(a, b), 'The two methods should return close vectors'\n",
    "\n",
    "%timeit moving_average_fast(x, w)\n",
    "%timeit naive_moving_average(x, w)"
   ]
  },
  {
   "cell_type": "markdown",
   "id": "dc45e7bb",
   "metadata": {},
   "source": [
    "(1p) 10. Se dau vectorii de valori $x=[x_0 \\dots x_{n-1}]$, $t=[t_0, \\dots t_{n-1}]$, cu $t[0] < t[1] < \\dots$. Sa se calculeze intr-o functie, intr-o maniera vectorizata, vectorul $v$ ale carui componente sunt:\n",
    "$$\n",
    "v[i] = \\frac{x[i+1] - x[i]}{t[i+1] - t[i]}\n",
    "$$\n",
    "\n",
    "In prealabil sa se verifice (vectorizat sau cu functii NumPy) ca vectorul $t$ este format doar din valori strict crescatoare. Comparati rezultatele si viteza de executie cu o implementare care construieste vectorul $v$ pas cu pas.\n",
    "\n",
    "Furnizati si o implementare folosind [Numba](https://numba.pydata.org/numba-doc/latest/user/5minguide.html). "
   ]
  },
  {
   "cell_type": "code",
   "execution_count": 10,
   "id": "c43069b8",
   "metadata": {},
   "outputs": [
    {
     "name": "stdout",
     "output_type": "stream",
     "text": [
      "[-2.86205948e+02  7.52212073e+02 -5.07624482e+02  1.33692067e+02\n",
      " -1.47571720e+02  3.36031433e+01  5.21315626e+01 -7.06651166e+02\n",
      "  1.94784019e+03 -1.23999507e+03  4.22031324e+02  1.90524204e+02\n",
      " -1.03750738e+01  4.61906568e+02 -2.04597420e+02  2.71941263e+02\n",
      " -6.76348308e+02 -4.99144625e+02  2.26087468e+04 -4.34617009e+03\n",
      "  6.54820524e+03  1.02492809e+02 -8.35891005e+02 -2.69752943e+02\n",
      "  1.04326419e+02  9.31233488e+02 -1.64014772e+02  3.87741836e+01\n",
      "  3.70138542e+02  3.02068700e+02 -1.26143689e+03  7.71469120e+02\n",
      " -1.14425096e+05  9.89344542e+01 -7.75594515e+02 -3.69854098e+02\n",
      "  5.52974903e+00 -8.40132872e+01  7.10158309e+02 -7.60683637e+02\n",
      "  2.53263493e+02 -3.55216137e+02 -5.55636942e+02  8.27847700e+01\n",
      "  4.86782711e+02 -7.33636645e+03  1.92357209e+03  8.45650302e+01\n",
      " -6.49463303e+02 -1.13956955e+03  2.55418766e+02 -2.43092715e+01\n",
      " -6.71376640e+01 -2.94742516e+02  3.40048369e+02  1.69106008e+02\n",
      " -4.74146705e+02 -2.24018124e+05  5.31458923e+00  2.23965630e+03\n",
      " -1.67416222e+02  8.95405285e+01  4.17536995e+02 -2.84216712e+01\n",
      " -1.94148484e+03  2.81691912e+05 -3.59293171e+02  4.78342518e+03\n",
      " -4.67271918e+02 -8.60021342e+02  5.54589180e+02 -1.06406743e+01\n",
      " -9.64282780e+02  1.12503987e+03 -2.65300983e+03 -2.64309577e+02\n",
      " -5.38027550e+02  1.32643499e+02  5.22528450e+03 -1.17185772e+02\n",
      " -1.59609749e+02  6.11326433e+01  1.01042540e+03 -4.57804799e+03\n",
      "  1.44451253e+03 -4.45025811e+02  1.61022231e+02 -1.99733733e+02\n",
      " -1.24345611e+03  2.64277487e+02  8.16681918e+01 -1.38015242e+03\n",
      "  9.92725126e+02 -8.58406662e+02  3.30744252e+03 -7.64913320e+02\n",
      "  6.01615826e+03 -2.57669819e+02  1.15867914e+02  1.41075717e+02\n",
      "  2.90305878e+02 -4.19086113e+03 -2.56829805e+04  2.75430359e+03\n",
      " -6.09327779e+01 -1.32490503e+02  2.46257101e+01 -1.90951235e+02\n",
      "  1.06217813e+02 -8.73009404e+02 -5.14678109e+01 -1.18606284e+02\n",
      "  6.61445468e+02  5.33373515e+01 -6.39267383e+02  2.05886941e+02\n",
      "  1.51508415e+02  1.18739870e+03  3.63976349e+02 -5.30447213e+01\n",
      " -3.37219307e+01 -2.44006179e+02 -4.44863217e+02  3.74441452e+01\n",
      " -4.01970828e+02  2.89001726e+01  2.27284064e+02  1.57571022e+02\n",
      "  4.44564705e+02 -1.09912841e+02  4.28976486e+02 -3.55315641e+02\n",
      " -1.03968461e+03  2.55035904e+02  6.48804632e+01 -6.36451189e+02\n",
      " -1.45738321e+02 -3.18714305e+02  1.67798118e+02 -8.25873277e+02\n",
      " -1.71618824e+02  6.07838041e+02 -1.05497733e+02  1.03901680e+03\n",
      " -4.78732551e+02 -2.02118481e+03 -1.15839524e+03  7.96016517e+01\n",
      "  1.70295977e+04  3.67067969e+02 -1.17897895e+03  1.69818891e+03\n",
      " -7.57257675e+02  3.95235308e+03  1.52348197e+02 -6.38510851e+03\n",
      "  9.45818499e+01 -3.10916727e+02  6.30142124e+02  3.38502990e+02\n",
      "  7.64656538e+02 -1.47687887e+02 -1.22564102e+01 -3.22206642e+02\n",
      " -1.49609678e+02  1.61050022e+02  1.54915466e+01 -1.01074209e+03\n",
      "  3.37904476e+03 -8.49819967e+02  7.65513601e+01  3.93785659e+04\n",
      "  1.13143399e+02 -3.00292505e+01 -4.44173180e+02  1.01768799e+03\n",
      " -1.02697160e+03 -1.17423003e+03  5.71717616e+05  8.59376770e+02\n",
      " -1.10917659e+03  1.09473384e+02 -3.14901420e+02  3.50221398e+03\n",
      "  4.60159207e+01 -8.26044536e+02  3.69487996e+02 -1.12520882e+03\n",
      "  8.66924808e+02 -3.65245824e+01  2.51561675e+02  2.67526601e+02\n",
      " -2.71250590e+03  5.81724497e+01 -3.73620437e+03  7.51120465e+01\n",
      "  1.01124500e+03 -5.41804122e+03  2.96679736e+02 -5.90177001e+02\n",
      "  1.06176644e+03  1.89896822e+02 -1.68374475e+03 -4.09346988e+02\n",
      "  7.11318472e+01  2.14855097e+02 -1.31615109e+03  1.62697160e+03\n",
      "  6.57484977e+03  5.63830485e+00 -4.16919743e+02  5.18593448e+02\n",
      " -1.18833698e+02 -4.05423656e+02  1.09621029e+02  5.01963204e+02\n",
      " -3.04252543e+03  6.92819275e+02  4.98475361e+01 -2.73874189e+02\n",
      "  8.92172281e+01 -5.56829825e+02  1.22092761e+03  8.42944792e+03\n",
      " -1.90528032e+02 -4.74134106e+02  7.39941771e+02  2.91652358e+01\n",
      " -8.19927257e+02 -1.46195154e+01  3.16280928e+02 -6.82317619e+02\n",
      " -1.25943971e+03 -5.64341076e+02  1.40618662e+02 -2.20448351e+02\n",
      " -1.81715021e+02  1.71637656e+03 -1.25086759e+02  2.17200863e+03\n",
      " -7.80584580e+01  1.88276440e+02 -9.79503744e+02  6.36916236e+02\n",
      "  2.02739338e+03 -3.11236620e+02  4.54221232e+01  3.03578060e+02\n",
      " -3.56661135e+03  1.26540856e+03  4.12460958e+02  1.25727466e+01\n",
      "  1.37199292e+02 -1.11080293e+03  1.17969875e+02  3.43360484e+02\n",
      " -1.23807217e+03 -7.04789956e+01 -1.20280423e+03  2.80930570e+02\n",
      " -3.89833750e+02  1.39312313e+02 -1.48389930e+03 -1.93741238e+03\n",
      "  6.28975121e+02  1.83443517e+02 -2.70053244e+02 -1.76101326e+02\n",
      " -1.21220387e+01  2.12467178e+02  1.15884179e+04  2.40161060e+02\n",
      " -1.62736423e+02 -2.77122961e+02  2.88803623e+02 -6.11187699e+01\n",
      " -4.69360399e+02 -4.69377696e+02 -1.82739521e+02  1.13609215e+00\n",
      "  4.10896821e+03 -4.63444997e+01 -2.60308058e+02  3.60932114e+03\n",
      " -2.72089093e+02  3.05333202e+02 -3.75057239e+02  7.09654741e+02\n",
      " -3.15835106e+01 -5.58835694e+02  5.94124372e+01  3.14211033e+01\n",
      "  1.00061844e+02 -1.74538383e+02  8.96232069e+01 -5.13088263e+03\n",
      "  1.49572026e+03 -1.99587572e+03  4.48411138e+02 -7.62961187e+02\n",
      " -2.75198868e+01  3.57596356e+01 -1.58711995e+02  2.57150939e+02\n",
      " -6.43503052e+02  1.26678941e+04 -5.99556146e+02 -1.93369843e+02\n",
      "  5.66712558e+02 -6.26743561e+02  1.47882113e+03 -7.45026657e+02\n",
      "  3.85726268e+02  1.41945613e+02  4.31299842e+02 -3.22155362e+01\n",
      "  7.56103150e+01 -1.29134378e+03  5.53308961e+02 -2.19388308e+02\n",
      "  6.25813322e+01 -7.85194988e+01 -3.19300943e+01 -3.28236919e+03\n",
      "  7.38310562e+02 -5.40607598e+03  3.17256242e+02 -6.35782784e+02\n",
      " -3.25878184e+02  7.25610484e+03 -4.32084496e+02 -1.46464464e+02\n",
      "  1.84045534e+03 -5.58192109e+01 -2.40361970e+02 -4.93348812e+01\n",
      "  2.75972465e+03 -9.00021545e+02  9.59663681e+02  6.37085416e+01\n",
      "  6.31253246e+01  3.31897110e+03 -1.00206257e+03  9.53321485e+03\n",
      "  1.77450990e+01 -5.18130844e+03  8.64321522e+02 -1.41103600e+02\n",
      "  4.68745581e+02 -8.91736853e+03  3.73365779e+05 -4.38829293e+03\n",
      "  2.34459713e+02  2.02174494e+02  5.55648497e+03  5.37213403e+02\n",
      "  3.50885818e+02  2.04952398e+02 -2.06552511e+02 -1.80103939e+02\n",
      "  2.15545964e+03 -2.20383402e+03 -2.80586417e+02  4.30180680e+02\n",
      " -2.13854299e+03 -9.37844914e+03  3.93389272e+01 -4.68918615e+00\n",
      "  4.70523068e+02 -1.68858239e+02  6.03492870e+02  2.96606922e+02\n",
      " -1.22475148e+03  3.06792996e+02  4.22512012e+02  2.08403200e+01\n",
      "  4.12311066e+03 -3.32594211e+03  4.06010961e+02  3.97625118e+02\n",
      " -1.05047879e+02 -9.74078505e+02  1.30085875e+03 -2.72700557e+03\n",
      "  4.92322668e+02 -1.27705989e+03  4.50573828e+01 -2.61230320e+02\n",
      "  8.45652099e+01  3.52693633e+02 -9.34934514e+01 -6.53072466e+01\n",
      " -1.27838104e+03  3.41495083e+02  2.70315266e+02 -5.01130705e+01\n",
      " -8.91826254e+02  2.44087922e+03 -5.25529817e+02  9.12056553e+01\n",
      " -8.44131387e+02  1.18419055e+04 -3.70683100e+02  1.72194482e+02\n",
      "  3.32525885e+02 -2.93859180e+02  4.56021851e+02 -1.15012164e+03\n",
      " -6.84857364e+01  2.82990621e+02  3.07426494e+03 -2.56901109e+02\n",
      "  2.76611459e+02 -1.32799290e+02  1.32480376e+03  4.38302009e+01\n",
      " -4.14418428e+02 -4.71012843e+02  5.61443316e+02  6.45962704e+02\n",
      " -7.27251932e+02  1.31510996e+02 -1.62213241e+03  3.63151856e+02\n",
      " -1.24206953e+02 -6.35597713e+02  2.68458093e+02 -6.45083763e+01\n",
      " -3.04106361e+03  3.60762773e+02  1.08834009e+04 -2.50064068e+02\n",
      "  7.75353002e+02 -3.84842050e+02  7.84607591e+01 -8.55990408e+02\n",
      " -6.38174848e+01 -3.22273431e+01  8.31883315e+01 -5.46553490e+02\n",
      " -4.19353539e+01  3.83311285e+02 -1.21744008e+02 -2.27786581e+02\n",
      "  5.39212860e+02 -2.98974163e+02  3.44982435e+02 -1.12027354e+02\n",
      "  8.18167959e+01 -2.66291002e+03  5.79269887e+02 -1.29514877e+03\n",
      " -9.18467717e+03  1.70650955e+03 -6.44956456e+02  3.10504096e+03\n",
      " -3.08360670e+02  6.14400770e+01 -3.62041089e+03 -4.53548473e+01\n",
      "  9.50171113e+02 -3.90438998e+02 -2.61717190e+02  2.23870482e+02\n",
      " -8.80493651e+01 -7.04593961e+01 -5.69496092e+01  3.87331596e+01\n",
      "  2.11973221e+03 -1.50005390e+03 -1.10771646e+03  4.59408751e+02\n",
      " -3.43674064e+01 -9.56191920e+01 -3.91269467e+04 -1.38939298e+02\n",
      "  3.21635471e+02  5.42023722e+01 -3.10169481e+03  1.72242042e+02\n",
      " -7.20113776e+01  4.28290534e+02 -2.73234155e+02  5.43681826e+01\n",
      " -3.01839568e+02  4.49342757e+02  2.70895619e+03 -8.69373271e+01\n",
      "  2.58017274e+02  2.15541506e+02  1.69169729e+02 -8.71584104e+01\n",
      "  3.93149328e+02 -5.66463248e+01 -1.45702141e+02 -2.41562223e+02\n",
      " -5.49924883e+01  2.31767130e+03 -3.11423237e+02 -5.27286385e+02\n",
      "  5.73126963e+03 -1.32678985e+02 -4.16359017e+02  3.68357955e+02\n",
      " -3.23273815e+02  8.81276028e+02 -1.95352655e+01 -2.01464344e+04\n",
      "  8.00662001e+03  6.01934753e+02 -7.23788503e+02 -9.89334463e+02\n",
      " -1.69275477e+02  1.68723764e+02 -1.03083213e+04  4.36956899e+02\n",
      "  1.86482054e+02 -1.69444672e+03 -3.98583982e+02  1.65419602e+03\n",
      " -1.05817129e+03  1.02368296e+02 -1.93334492e+02  1.96183676e+03\n",
      " -5.06062209e+01 -1.70155384e+01 -1.79333062e+01  1.18885884e+01\n",
      "  5.07035744e+01  4.09105178e+02  4.46083295e+02  7.13495945e+02\n",
      " -7.79076718e+02  2.47013857e+02  2.42574716e+02 -2.29151560e+03\n",
      " -2.92486347e+02  4.16679091e+02  1.48119149e+02 -1.56342377e+03\n",
      " -1.45062155e+02  6.06321187e+02 -5.31116466e+02 -1.78023862e+04\n",
      "  8.31129596e+02  1.00959446e+02 -7.59516262e+02  2.63051289e+03\n",
      " -1.29775452e+03  7.47226370e+02 -4.67868086e+02  7.06793842e+02\n",
      "  2.64587862e+02  2.20438588e+00 -1.18056635e+02 -2.45289534e+02\n",
      "  3.96326646e+02 -4.22048883e+02  1.24921506e+03 -1.17517702e+03\n",
      " -1.41751713e+03  1.14952642e+02  2.17812937e+02  2.80331725e+02\n",
      " -1.73887338e+03  9.37045804e+02 -1.41661697e+03  6.26119392e+01\n",
      " -3.30012653e+02  6.92811634e+02  8.50918149e+01 -4.84056329e+02\n",
      "  5.40763673e+02 -1.68547388e+02  3.21935157e+02 -6.56821431e+02\n",
      "  1.63170815e+04 -4.04487228e+02  2.63551577e+02 -7.23398809e+01\n",
      "  2.49192480e+02  4.26471785e+01 -8.85035358e+03 -3.58626294e+03\n",
      "  8.84031558e+03  9.49552466e+01  2.73996020e+02 -2.14570317e+02\n",
      "  5.55233712e+02 -1.22634837e+03  6.43252517e+02 -6.73962860e+01\n",
      " -1.86033617e+02 -2.61959963e+02  5.60348551e+02 -1.15965626e+02\n",
      "  1.10596975e+02  3.63030581e+01 -1.18355271e+03  3.27352170e+02\n",
      " -3.28686832e+02  7.02299436e+03  6.60452486e+02 -4.85390909e+03\n",
      "  1.65796625e+03 -1.44542317e+03 -4.36991719e+02  2.17390779e+02\n",
      " -1.19775854e+03  8.46791007e+02 -3.96271099e+03  1.16734535e+02\n",
      "  1.34083502e+02 -8.45991136e+02  1.08695059e+03 -4.67535457e+03\n",
      " -5.89148004e+02  9.71324639e+02 -8.97920318e+02  1.33440476e+03\n",
      "  1.04802438e+02 -4.94188992e+03 -8.85584453e+00  1.07878943e+04\n",
      " -6.37409435e+02  1.07307896e+02  4.06193021e+02  8.66593373e+01\n",
      " -3.45981415e+02 -5.75579878e+00  1.24890457e+03 -2.51448291e+00\n",
      " -1.13653167e+02  1.00820198e+02  9.77794330e+02 -2.02968676e+03\n",
      "  2.94312026e+02 -1.99978005e+02 -1.20725134e+03 -2.13044223e+02\n",
      "  2.25561061e+02  3.64417110e+01 -1.88707527e+02  1.94027820e+02\n",
      " -3.19058757e+02  7.96748240e+02  1.80442484e+02 -2.87440597e+02\n",
      "  3.57479620e+02 -1.12810504e+02 -2.00897134e+02  8.54121385e+02\n",
      " -1.37906018e+02  1.11969793e+02  5.64822867e+01 -2.51263759e+02\n",
      "  1.73872589e+02  7.36664538e+01 -8.58632464e+02  4.12982165e+03\n",
      " -1.97208271e+04  4.19712284e+02  4.05669311e+01  6.26241917e+01\n",
      " -6.55047181e+02  9.50109523e+01  1.04193804e+03 -1.50569465e+02\n",
      " -2.66766755e+02 -1.68865525e+01  1.42156812e+04 -2.99879383e+02\n",
      " -2.22824787e+02  1.67289104e+04  2.04541164e+01  1.80371121e+02\n",
      " -9.63213801e+02  2.72392844e+03 -5.25193129e+02 -3.08336214e+02\n",
      "  3.55295841e+03 -1.12215282e+03  1.25158696e+02  2.46575162e+02\n",
      " -1.26233756e+03  1.75554447e+03 -6.26732329e+03  5.13793425e+02\n",
      " -2.15745360e+01  2.71098225e+03 -7.84399857e+01  2.98360721e+02\n",
      " -1.25411708e+03  1.57008948e+03 -6.28268209e+02  8.76023144e+02\n",
      "  8.82477754e+02  4.62666581e+02 -4.21221583e+02  7.18892855e+02\n",
      " -1.36844778e+03  6.08427393e+02 -5.24147903e+02 -8.45501968e+01\n",
      "  2.09413391e+01 -1.19405641e+02  4.31736557e+02 -2.58095269e+02\n",
      "  2.61732604e+02  1.64146127e+02  9.61202431e+03 -2.19674090e+02\n",
      "  1.48888537e+02 -1.84338162e+03  1.33665267e+03 -2.67176377e+02\n",
      "  4.70993585e+03 -1.20611470e+03 -1.32878558e+03 -3.19271848e-01\n",
      "  6.29229232e+01  7.34059732e+02 -3.44704888e+03 -3.76407379e+02\n",
      "  1.84474635e+02  2.10360431e+02 -1.48799094e+03  3.73101098e+01\n",
      "  1.28590277e+02 -1.02153880e+03  3.06604274e+02  1.52071100e+02\n",
      " -2.31341692e+03 -5.44213593e+02  5.73027693e+03 -1.05880918e+03\n",
      " -1.37231695e+03  4.54392657e+02 -1.93176860e+03  5.05744059e+00\n",
      " -7.07276069e+02  3.64525957e+02  2.65649915e+02 -1.39547383e+03\n",
      "  1.59709128e+03  1.10691883e+02 -7.98475373e+02  4.87352132e+02\n",
      " -1.57556691e+02  5.94526255e+02 -9.45445138e+02  1.07554335e+03\n",
      "  3.27998828e+02 -4.35710127e+02  1.87303069e+03  1.24177840e+03\n",
      " -1.40490495e+03  1.95060696e+01  1.75445247e+03 -5.98804784e+02\n",
      "  6.85725474e+03  4.88151249e+02 -2.18027584e+02 -3.94760487e+03\n",
      "  6.89962034e+02 -4.65786697e+02  4.57474009e+02  3.63607129e+02\n",
      " -1.70124001e+02  8.49263553e+03 -7.45091204e+02 -5.81739071e+02\n",
      "  5.83115486e+02  2.53415117e+02 -1.08139528e+02  2.92676670e+02\n",
      "  2.66528357e+02 -1.65149779e+03 -4.17404398e+01  2.42286574e+03\n",
      " -2.36711104e+02 -1.19159524e+02  3.64195921e+02 -8.02388764e+02\n",
      "  1.82210417e+02  2.53226425e+02  7.89778186e+01 -5.20538265e+02\n",
      "  2.19587145e+02 -1.08483433e+02 -4.41161613e+01 -1.18489799e+02\n",
      " -8.28384510e+01 -1.13750547e+04  3.25888027e+02 -2.10291064e+02\n",
      " -1.95294677e+03  1.25554549e+03  1.21928871e+02 -1.23761419e+03\n",
      "  7.88040026e+02 -5.01386482e+02  3.66118182e+01 -1.25608678e+02\n",
      "  1.61757548e+03  1.09602008e+02 -3.64013869e+02  7.83422626e+02\n",
      " -3.15363785e+02  5.26367891e+03  3.21909585e+02 -1.20147454e+03\n",
      " -4.72034167e+01  9.09029944e+02  3.62283212e+03 -6.48659207e+02\n",
      "  5.06338540e+03  4.18830663e+02 -1.91400216e+02  1.45265280e+02\n",
      "  9.07591182e+01 -1.50878116e+04 -7.52060311e+01  1.97094008e+02\n",
      " -2.67532422e+03  2.80387610e+02 -4.38395308e+02  8.37099206e+03\n",
      " -2.39588745e+02  1.31484464e+04 -6.14993367e+02 -9.36886871e+01\n",
      "  2.97827877e+02 -8.23347351e+03  2.42373535e+01 -5.95669922e+01\n",
      "  2.40232742e+01  1.00815236e+02 -2.35950514e+02  2.39717414e+02\n",
      " -3.33751986e+01  4.75485130e+02  2.23968732e+02  2.59803578e+02\n",
      " -5.67248887e+03 -9.88357781e+01  1.30151628e+03  5.29021219e+02\n",
      " -5.65351512e+02  7.37831470e+02 -1.10082610e+03 -7.15724670e+00\n",
      "  5.26757294e+02 -2.89584421e+03 -3.05311046e+02  6.29802765e+03\n",
      " -3.39318299e+02 -1.62898371e+02  1.44410241e+02  8.13576372e+02\n",
      " -3.17660903e+02 -3.11480225e+03  1.52749885e+03 -7.20069308e+02\n",
      "  2.90150767e+02  1.08447183e+02  2.48783522e+02 -4.13648115e+02\n",
      "  3.51061617e+02 -4.38777297e+03 -9.88925337e+01  4.05310059e+03\n",
      "  8.95181967e+00  5.28431908e+01  3.31579406e+01 -3.06471620e+03\n",
      "  7.99487754e+02 -1.29189653e+01  3.10345451e+02  5.05227469e+03\n",
      " -3.18655008e+01  6.08796587e+01 -2.80033809e+03  3.96956350e+02\n",
      " -4.87649096e+02  1.33871914e+03 -2.79675053e+02 -1.01077137e+03\n",
      "  8.17004242e+02 -8.07776067e+02  6.88739730e+02  1.53509166e+02\n",
      " -5.61381420e+02 -4.12764362e+01 -3.20976953e+02  8.89090750e+03\n",
      " -2.48869607e+02  2.89950324e+02  2.84980766e+00  1.99671728e+02\n",
      " -1.83393025e+03 -4.72432995e+02  1.71092989e+03  2.45685714e+02\n",
      " -7.77638319e+02  1.78974611e+03 -1.20287396e+03  3.47196065e+02\n",
      "  1.40793115e+02 -5.00397623e+03  4.56448420e+02  1.22429333e+03\n",
      " -3.33669396e+02 -1.53254934e+03  4.30005899e+04 -3.51213930e+04\n",
      " -4.50638030e+02  4.28345569e+03 -6.58757117e+02 -1.68203795e+02\n",
      "  1.87483432e+03  1.37215181e+01 -2.07373510e+00 -2.85422924e+03\n",
      "  7.35076679e+02  1.30706101e+05 -2.76539895e+02  1.83213957e+04\n",
      " -2.56392873e+01 -6.11291760e+02  4.04452271e+03 -3.78685297e+03\n",
      "  1.01546023e+03 -7.85560311e+02  2.50687342e+02 -8.83554818e+02\n",
      "  9.23172570e+02 -9.62394132e+02  1.50306290e+03  7.43700842e+01\n",
      " -2.04422106e+02  4.33223819e+01  5.41099247e+02 -4.57418796e+02\n",
      "  1.03685953e+03 -6.44802929e+01 -5.43001591e+01 -1.84088184e+02\n",
      " -3.03235300e+02  2.01476710e+03 -3.82674133e+02  4.99765328e+01\n",
      " -1.40028283e+01  5.07730671e+01  1.16011527e+02 -2.68322024e+02\n",
      " -1.91405670e+01 -1.39512520e+03  1.26798068e+03  8.31626563e+01\n",
      " -2.87091948e+02  6.16770865e+02 -8.16268486e+02  5.35912372e+02\n",
      " -3.68796409e+02  3.44437748e+02  9.02149036e+02 -2.54618604e+01\n",
      "  6.50597712e+02 -2.31247727e+02  2.83720554e+03  5.10212969e+01\n",
      " -2.71164246e+02 -2.44518168e+03 -3.02501678e+04 -5.72031074e+01\n",
      "  1.16622490e+02  1.49468771e+02  6.24264734e+02 -2.35570294e+02\n",
      "  9.02961614e+02 -3.15154209e+03 -6.60797211e+02 -1.98572492e+02\n",
      "  5.87902330e+02 -1.01583251e+02 -5.09798344e+02  5.59220812e+02\n",
      " -4.54194455e+01  1.17223433e+02  2.19696659e+03  1.84347843e+02\n",
      " -2.19679027e+02 -7.70292589e+02  2.42496369e+03 -4.62805529e+01\n",
      " -1.51247544e+02 -1.63863334e+01  3.47264167e+03]\n"
     ]
    },
    {
     "name": "stdout",
     "output_type": "stream",
     "text": [
      "16.6 µs ± 695 ns per loop (mean ± std. dev. of 7 runs, 100,000 loops each)\n",
      "\n",
      "    Verifica daca al doilea vector este ordonat crescator si \n",
      "    returneaza un vector a caror termeni sunt dati dupa formula\n",
      "    v[i]=(x[i+1]-x[i])/(t[i+1]-t[i])\n",
      "    :param x(np.ndarray): primul vector\n",
      "    :param t(np.ndarray): al doilea vector\n",
      "    \n"
     ]
    }
   ],
   "source": [
    "def creare_vector(x:np.ndarray,t:np.ndarray)->np.ndarray:\n",
    "    '''\n",
    "    Verifica daca al doilea vector este ordonat crescator si \n",
    "    returneaza un vector a caror termeni sunt dati dupa formula\n",
    "    v[i]=(x[i+1]-x[i])/(t[i+1]-t[i])\n",
    "    :param x(np.ndarray): primul vector\n",
    "    :param t(np.ndarray): al doilea vector\n",
    "    '''\n",
    "    sortat:bool=np.all(t[:-1]<t[1:])\n",
    "    if sortat:\n",
    "        return np.diff(x)/np.diff(t)\n",
    "    else:\n",
    "        print('Vectorul \"t\" nu e sortat!')\n",
    "        return []\n",
    "x = np.random.rand(1000)\n",
    "t = np.random.rand(1000)\n",
    "t.sort()\n",
    "\n",
    "print(creare_vector(x,t))\n",
    "%timeit creare_vector(x, t)\n",
    "print(creare_vector.__doc__)"
   ]
  }
 ],
 "metadata": {
  "kernelspec": {
   "display_name": "Python 3 (ipykernel)",
   "language": "python",
   "name": "python3"
  },
  "language_info": {
   "codemirror_mode": {
    "name": "ipython",
    "version": 3
   },
   "file_extension": ".py",
   "mimetype": "text/x-python",
   "name": "python",
   "nbconvert_exporter": "python",
   "pygments_lexer": "ipython3",
   "version": "3.11.5"
  },
  "toc": {
   "base_numbering": 1,
   "nav_menu": {},
   "number_sections": true,
   "sideBar": true,
   "skip_h1_title": false,
   "title_cell": "Table of Contents",
   "title_sidebar": "Contents",
   "toc_cell": false,
   "toc_position": {},
   "toc_section_display": true,
   "toc_window_display": false
  },
  "varInspector": {
   "cols": {
    "lenName": 16,
    "lenType": 16,
    "lenVar": 40
   },
   "kernels_config": {
    "python": {
     "delete_cmd_postfix": "",
     "delete_cmd_prefix": "del ",
     "library": "var_list.py",
     "varRefreshCmd": "print(var_dic_list())"
    },
    "r": {
     "delete_cmd_postfix": ") ",
     "delete_cmd_prefix": "rm(",
     "library": "var_list.r",
     "varRefreshCmd": "cat(var_dic_list()) "
    }
   },
   "types_to_exclude": [
    "module",
    "function",
    "builtin_function_or_method",
    "instance",
    "_Feature"
   ],
   "window_display": false
  }
 },
 "nbformat": 4,
 "nbformat_minor": 5
}
